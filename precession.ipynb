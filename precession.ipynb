{
 "cells": [
  {
   "cell_type": "code",
   "execution_count": 1,
   "metadata": {},
   "outputs": [],
   "source": [
    "import numpy\n",
    "import matplotlib"
   ]
  },
  {
   "cell_type": "markdown",
   "metadata": {},
   "source": [
    "## Three body central force problem Sun-Mercury-Jupiter system\n",
    "\n",
    "*Note* Assume the Sun is stationary at origin\n",
    "\n",
    "Terms for Mercury, Jupiter and the Sun have subscripts M, K and S respectively\n",
    "\n",
    "$$\n",
    "\\mathscr{L} = \\frac{1}{2}m_M \\dot{r_M}^2 + \\frac{1}{2}m_M r_M^2 \\dot{\\theta_M}^2 + \\frac{1}{2}m_J \\dot{r_J}^2 + \\frac{1}{2}m_J r_J^2 \\dot{\\theta_J}^2 + \\frac{G m_S m_M}{r_M} + \\frac{G m_S m_J}{r_J} + \\frac{G m_J m_M}{r_{JM}}\n",
    "$$\n",
    "\n",
    "where\n",
    "$$\n",
    "r_{JM}^2 = r_J^2 + r_M^2 - 2r_Jr_Mcos(\\theta_M - \\theta_J)\n",
    "$$\n"
   ]
  },
  {
   "cell_type": "markdown",
   "metadata": {},
   "source": [
    "\n",
    "This gives\n",
    "\n",
    "$$\n",
    "\\frac{\\partial \\mathscr{L}}{\\dot{r_M}} = m_M \\dot{r_M}\n",
    "$$\n",
    "\n",
    "$$\n",
    "\\frac{\\partial \\mathscr{L}}{\\dot{r_J}} = m_J \\dot{r_J}\n",
    "$$\n",
    "\n",
    "$$\n",
    "\\frac{\\partial \\mathscr{L}}{\\partial \\dot{\\theta_M}} = m_M r_M^2 \\dot{\\theta_M}\n",
    "$$\n",
    "\n",
    "$$\n",
    "\\frac{\\partial \\mathscr{L}}{\\partial \\dot{\\theta_J}} = m_J r_J^2 \\dot{\\theta_J}\n",
    "$$\n",
    "\n",
    "$$\n",
    "\\frac{\\partial \\mathscr{L}}{\\partial r_M} = m_M r_M \\dot{\\theta_M}^2 - \\frac{Gm_Sm_M}{r_M^2} - \\frac{Gm_Jm_M}{r_{JM}^2} \\frac{\\partial r_{JM}}{\\partial r_M}\n",
    "$$\n",
    "\n",
    "$$\n",
    "\\frac{\\partial \\mathscr{L}}{\\partial r_J} = m_J r_J \\dot{\\theta_J}^2 - \\frac{Gm_Sm_J}{r_J^2} - \\frac{Gm_Jm_M}{r_{JM}^2} \\frac{\\partial r_{JM}}{\\partial r_J}\n",
    "$$\n",
    "\n",
    "$$\n",
    "\\frac{\\partial \\mathscr{L}}{\\partial \\theta_M} = - \\frac{Gm_Jm_M}{r_{JM}^2} \\frac{\\partial r_{JM}}{\\partial \\theta_M}\n",
    "$$\n",
    "\n",
    "$$\n",
    "\\frac{\\partial \\mathscr{L}}{\\partial \\theta_J} = - \\frac{Gm_Jm_M}{r_{JM}^2} \\frac{\\partial r_{JM}}{\\partial \\theta_J}\n",
    "$$\n"
   ]
  },
  {
   "cell_type": "markdown",
   "metadata": {},
   "source": [
    "Where\n",
    "\n",
    "$$\n",
    "\\frac{\\partial r_{JM}}{\\partial r_M} = \\frac{r_M - r_Jcos(\\theta_M - \\theta_J)}{r_{JM}}\n",
    "$$\n",
    "\n",
    "$$\n",
    "\\frac{\\partial r_{JM}}{\\partial r_J} = \\frac{r_J - r_Mcos(\\theta_M - \\theta_J)}{r_{JM}}\n",
    "$$\n",
    "\n",
    "$$\n",
    "\\frac{\\partial r_{JM}}{\\partial \\theta_M} = - \\frac{r_Jr_Msin(\\theta_M - \\theta_J)}{r_{JM}}\n",
    "$$\n",
    "\n",
    "$$\n",
    "\\frac{\\partial r_{JM}}{\\partial \\theta_J} = \\frac{r_Jr_Msin(\\theta_M - \\theta_J)}{r_{JM}}\n",
    "$$"
   ]
  },
  {
   "cell_type": "markdown",
   "metadata": {},
   "source": [
    "For $ r_M $\n",
    "\n",
    "$$\n",
    "\\frac{d}{dt}(\\frac{\\partial \\mathscr{L}}{\\partial \\dot{r_M}}) = \\frac{\\partial \\mathscr{L}}{\\partial r_M}\n",
    "$$\n",
    "\n",
    "$$\n",
    "\\ddot{r_M} = r_M \\dot{\\theta_M}^2 - \\frac{Gm_S}{r_M^2} - \\frac{Gm_J(r_M - r_Jcos(\\theta_M - \\theta_J))}{r_{JM}^3}\n",
    "$$\n"
   ]
  },
  {
   "cell_type": "markdown",
   "metadata": {},
   "source": [
    "For $ r_J $\n",
    "\n",
    "$$\n",
    "\\frac{d}{dt}(\\frac{\\partial \\mathscr{L}}{\\partial \\dot{r_J}}) = \\frac{\\partial \\mathscr{L}}{\\partial r_J}\n",
    "$$\n",
    "\n",
    "$$\n",
    "\\ddot{r_J} = r_J \\dot{\\theta_J}^2 - \\frac{Gm_S}{r_J^2} - \\frac{Gm_M(r_J - r_Mcos(\\theta_M - \\theta_J))}{r_{JM}^3}\n",
    "\n",
    "$$\n"
   ]
  },
  {
   "cell_type": "markdown",
   "metadata": {},
   "source": [
    "For $ \\theta_M $\n",
    "\n",
    "$$\n",
    "\\frac{d}{dt}(\\frac{\\partial \\mathscr{L}}{\\partial \\dot{\\theta_M}}) = \\frac{\\partial \\mathscr{L}}{\\partial \\theta_M}\n",
    "$$\n",
    "\n",
    "$$\n",
    "\\frac{d}{dt}(r_M^2 \\dot{\\theta_M}) = \\frac{Gm_Jr_Jr_Msin(\\theta_M - \\theta_J)}{r_{JM}^3}\n"
   ]
  },
  {
   "cell_type": "markdown",
   "metadata": {},
   "source": [
    "For $ \\theta_J $\n",
    "\n",
    "$$\n",
    "\\frac{d}{dt}(\\frac{\\partial \\mathscr{L}}{\\partial \\dot{\\theta_J}}) = \\frac{\\partial \\mathscr{L}}{\\partial \\theta_J}\n",
    "$$\n",
    "\n",
    "$$\n",
    "\\frac{d}{dt}(r_J^2 \\dot{\\theta_J}) = - \\frac{Gm_Mr_Jr_Msin(\\theta_M - \\theta_J)}{r_{JM}^3}\n"
   ]
  }
 ],
 "metadata": {
  "interpreter": {
   "hash": "31f2aee4e71d21fbe5cf8b01ff0e069b9275f58929596ceb00d14d90e3e16cd6"
  },
  "kernelspec": {
   "display_name": "Python 3.8.9 64-bit",
   "language": "python",
   "name": "python3"
  },
  "language_info": {
   "codemirror_mode": {
    "name": "ipython",
    "version": 3
   },
   "file_extension": ".py",
   "mimetype": "text/x-python",
   "name": "python",
   "nbconvert_exporter": "python",
   "pygments_lexer": "ipython3",
   "version": "3.8.9"
  },
  "orig_nbformat": 4
 },
 "nbformat": 4,
 "nbformat_minor": 2
}
