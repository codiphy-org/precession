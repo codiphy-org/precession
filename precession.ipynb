{
 "cells": [
  {
   "cell_type": "code",
   "execution_count": 1,
   "metadata": {},
   "outputs": [],
   "source": [
    "import numpy\n",
    "import matplotlib"
   ]
  },
  {
   "cell_type": "markdown",
   "metadata": {},
   "source": [
    "## Three body central force problem Sun-Mercury-Jupiter system\n",
    "\n",
    "*Note* Assume Sun is stationary at origin\n",
    "\n",
    "For a bodies of mass M and m, where M >> m, and r is the distance of m from M,\n",
    "the lagrangian can be written as\n",
    "\n",
    "$$\n",
    "\\mathscr{L} = \\frac{1}{2}m_M \\dot{r_M}^2 + \\frac{1}{2}m_M r_M^2 \\dot{\\theta_M}^2 + \\frac{1}{2}m_J \\dot{r_J}^2 + \\frac{1}{2}m_J r_J^2 \\dot{\\theta_J}^2\n",
    "$$\n",
    "$$\n",
    "\n",
    "Some useful partial derivatives to substitute in Euler-Lagrange equations\n",
    "\n",
    "$$\n",
    "\\frac{\\partial \\mathscr{L}}{\\partial r} = m r \\dot{\\theta}^2 - \\frac{GMm}{r^2}\n",
    "$$\n",
    "\n",
    "$$\n",
    "\\frac{\\partial \\mathscr{L}}{\\partial \\dot{r}} = m \\dot{r}\n",
    "$$\n",
    "\n",
    "$$\n",
    "\\frac{\\partial \\mathscr{L}}{\\partial \\theta} = 0\n",
    "$$\n",
    "\n",
    "$$\n",
    "\\frac{\\partial \\mathscr{L}}{\\partial \\dot{\\theta}} = m r^2 \\dot{\\theta}\n",
    "$$\n",
    "\n",
    "Simplifying Euler-Lagrange equation for the r coordinate\n",
    "\n",
    "$$\n",
    "0 = \\frac{\\partial \\mathscr{L}}{\\partial r} -\n",
    "        \\frac{d}{dt}(\\frac{\\partial \\mathscr{L}}{\\partial \\dot{r}}) = r\n",
    "        \\dot{\\theta}^2 - \\frac{GM}{r^2} -\\ddot{r}\n",
    "$$\n",
    "\n",
    "$$\n",
    "\\longrightarrow \\ddot{r} = r \\dot{\\theta}^2 - \\frac{GM}{r^2}\n",
    "$$\n",
    "\n",
    "Simplifying Euler-Lagrange equation for the $$\\theta$$ coordinate\n",
    "\n",
    "$$\n",
    "0 = \\frac{\\partial \\mathscr{L}}{\\partial \\theta} -\n",
    "        \\frac{d}{dt}(\\frac{\\partial \\mathscr{L}}{\\partial \\dot{\\theta}}) =\n",
    "        \\frac{d}{dt}(m r^2 \\dot{\\theta})\n",
    "$$\n",
    "\n",
    "Simplifying and integrating we get\n",
    "\n",
    "$$\n",
    "\\longrightarrow L = m r^2 \\dot{\\theta}\n",
    "$$\n",
    "\n",
    "where L is the angular momentum\n",
    "\n",
    "Substituting for $\\dot{\\theta}$ we get\n",
    "\n",
    "$$\n",
    "\\ddot{r} = \\frac{L^2}{m^2r^3} - \\frac{GM}{r^2}\n",
    "$$\n"
   ]
  },
  {
   "cell_type": "markdown",
   "metadata": {},
   "source": []
  }
 ],
 "metadata": {
  "interpreter": {
   "hash": "31f2aee4e71d21fbe5cf8b01ff0e069b9275f58929596ceb00d14d90e3e16cd6"
  },
  "kernelspec": {
   "display_name": "Python 3.8.9 64-bit",
   "language": "python",
   "name": "python3"
  },
  "language_info": {
   "codemirror_mode": {
    "name": "ipython",
    "version": 3
   },
   "file_extension": ".py",
   "mimetype": "text/x-python",
   "name": "python",
   "nbconvert_exporter": "python",
   "pygments_lexer": "ipython3",
   "version": "3.8.9"
  },
  "orig_nbformat": 4
 },
 "nbformat": 4,
 "nbformat_minor": 2
}
